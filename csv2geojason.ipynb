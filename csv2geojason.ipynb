{
 "cells": [
  {
   "cell_type": "code",
   "execution_count": 134,
   "metadata": {},
   "outputs": [],
   "source": [
    "import scipy\n",
    "import csv\n",
    "import pandas as pd\n",
    "import math"
   ]
  },
  {
   "cell_type": "code",
   "execution_count": 169,
   "metadata": {},
   "outputs": [],
   "source": [
    "df = pd.read_csv('cafesList.csv')"
   ]
  },
  {
   "cell_type": "code",
   "execution_count": 176,
   "metadata": {},
   "outputs": [],
   "source": [
    "properties = []\n",
    "geometry = []"
   ]
  },
  {
   "cell_type": "code",
   "execution_count": 177,
   "metadata": {},
   "outputs": [],
   "source": [
    "# For categories, and type\n",
    "catDir  = {1:'Radical', 2:'Moderate', 3:'Apolitical'}\n",
    "typeDir = {'p':'Alch', 'c':'Cfe', 'b':'Brthl', 'i':'Htl'}"
   ]
  },
  {
   "cell_type": "code",
   "execution_count": 178,
   "metadata": {},
   "outputs": [],
   "source": [
    "for index, row in df.iterrows():\n",
    "    prop = []\n",
    "    prop.append('\"NAME\": \"'+row['Name']+'\"')\n",
    "    prop.append('\"OWNER\": \"'+row['OwnerName']+'\"')\n",
    "    prop.append('\"POL\": \"'+catDir[row['Category']]+'\"')\n",
    "    prop.append('\"ADDRESS1\": \"'+row['OldAdd']+'\"')\n",
    "    prop.append('\"ADDRESS2\": \"'+row['NewAdd']+'\"')\n",
    "    if type(row['Img']) == str:\n",
    "        prop.append('\"IMG\": \"img/'+str(row['Img'])+'\"')\n",
    "    if type(row['Meta']) == str:\n",
    "        prop.append('\"WIKI\": \"'+str(row['Meta'])+'\"')\n",
    "    prop.append('\"COMMENT\": \"'+row['Text']+'\"')\n",
    "    iconStr = catDir[row['Category']]+'_'+typeDir[row['Type']]+'_trnspnt.png'\n",
    "    prop.append('\"ICON\": \"icons/'+iconStr+'\"')\n",
    "    properties.append(','.join(prop))\n",
    "    geom = []\n",
    "    geom.append('\"type\": \"Point\"')\n",
    "    geom.append('\"coordinates\": ['+str(row['E']) +', '+str(row['N'])+']')\n",
    "    geometry.append(','.join(geom))"
   ]
  },
  {
   "cell_type": "code",
   "execution_count": 179,
   "metadata": {},
   "outputs": [],
   "source": [
    "lines = []\n",
    "for ii,(prop,geom) in enumerate(zip(properties,geometry)):\n",
    "    line = '{\"type\": \"Feature\", \"id\": '+str(ii)+', \"properties\": {'+prop+'}, \"geometry\": { '+geom+' } }'\n",
    "    lines.append(line)"
   ]
  },
  {
   "cell_type": "code",
   "execution_count": 180,
   "metadata": {},
   "outputs": [
    {
     "data": {
      "text/plain": [
       "'{\"type\": \"Feature\", \"id\": 1, \"properties\": {\"NAME\": \"George Café\",\"OWNER\": \"Fadel Jamel Kaour\",\"POL\": \"Radical\",\"ADDRESS1\": \"1 Allenby\",\"ADDRESS2\": \"1 Allenby\",\"IMG\": \"img/1_Allenby.png\",\"COMMENT\": \"Owner was police officer in Haifa until 1938, and was removed from the police when it was found that he had a relationship with the gangs. To this day, he still uses his relationships to buy weapons, so he went to work as an employee in the `Steel` company, in order to have a relationship with a group of drivers suitable for him and to implement what was required of him.\",\"ICON\": \"icons/Radical_Alch_trnspnt.png\"}, \"geometry\": { \"type\": \"Point\",\"coordinates\": [34.9728677, 32.828341200000004] } }'"
      ]
     },
     "execution_count": 180,
     "metadata": {},
     "output_type": "execute_result"
    }
   ],
   "source": [
    "lines[1]"
   ]
  },
  {
   "cell_type": "code",
   "execution_count": 181,
   "metadata": {},
   "outputs": [],
   "source": [
    "f = open(\"cafes.geojason\", \"w\")\n",
    "f.write('{\\n')\n",
    "f.write('\"type\": \"FeatureCollection\", \\n')\n",
    "f.write('\"features\": [\\n')\n",
    "f.write(',\\n'.join(lines))\n",
    "f.write('\\n]}')\n",
    "f.close()"
   ]
  },
  {
   "cell_type": "code",
   "execution_count": null,
   "metadata": {},
   "outputs": [],
   "source": []
  }
 ],
 "metadata": {
  "kernelspec": {
   "display_name": "Python 3",
   "language": "python",
   "name": "python3"
  },
  "language_info": {
   "codemirror_mode": {
    "name": "ipython",
    "version": 3
   },
   "file_extension": ".py",
   "mimetype": "text/x-python",
   "name": "python",
   "nbconvert_exporter": "python",
   "pygments_lexer": "ipython3",
   "version": "3.7.4"
  }
 },
 "nbformat": 4,
 "nbformat_minor": 2
}
